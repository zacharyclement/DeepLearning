{
 "cells": [
  {
   "cell_type": "code",
   "execution_count": 7,
   "metadata": {},
   "outputs": [],
   "source": [
    "import tensorflow as tf"
   ]
  },
  {
   "cell_type": "code",
   "execution_count": 6,
   "metadata": {},
   "outputs": [
    {
     "ename": "NameError",
     "evalue": "name 'mnist' is not defined",
     "output_type": "error",
     "traceback": [
      "\u001b[0;31m---------------------------------------------------------------------------\u001b[0m",
      "\u001b[0;31mNameError\u001b[0m                                 Traceback (most recent call last)",
      "\u001b[0;32m<ipython-input-6-95beaaa34527>\u001b[0m in \u001b[0;36m<module>\u001b[0;34m()\u001b[0m\n\u001b[1;32m      1\u001b[0m \u001b[0;31m#download mnsit data set\u001b[0m\u001b[0;34m\u001b[0m\u001b[0;34m\u001b[0m\u001b[0m\n\u001b[0;32m----> 2\u001b[0;31m \u001b[0mmnist\u001b[0m\u001b[0;34m\u001b[0m\u001b[0m\n\u001b[0m",
      "\u001b[0;31mNameError\u001b[0m: name 'mnist' is not defined"
     ]
    }
   ],
   "source": [
    "#download mnsit data set\n",
    "mnist"
   ]
  },
  {
   "cell_type": "code",
   "execution_count": null,
   "metadata": {
    "collapsed": true
   },
   "outputs": [],
   "source": [
    "#set parameters\n",
    "learning_rate = .01\n",
    "training_iteration = 30\n",
    "batch_size = 100\n",
    "display_step = 2\n"
   ]
  },
  {
   "cell_type": "code",
   "execution_count": 8,
   "metadata": {},
   "outputs": [
    {
     "ename": "SyntaxError",
     "evalue": "can't assign to operator (<ipython-input-8-33f37abc53cb>, line 18)",
     "output_type": "error",
     "traceback": [
      "\u001b[0;36m  File \u001b[0;32m\"<ipython-input-8-33f37abc53cb>\"\u001b[0;36m, line \u001b[0;32m18\u001b[0m\n\u001b[0;31m    b-h = tf.histogram_summary('biases', b)\u001b[0m\n\u001b[0m                                           ^\u001b[0m\n\u001b[0;31mSyntaxError\u001b[0m\u001b[0;31m:\u001b[0m can't assign to operator\n"
     ]
    }
   ],
   "source": [
    "#our two operations\n",
    "x = tf.placeholder('float', [None, 784]) #mnist data image of shape 28*28=784\n",
    "y = tf.placeholder('float', [None, 10]) #0-9 digits recognition => 10 classes\n",
    "\n",
    "\n",
    "#create model\n",
    "\n",
    "#set model weights\n",
    "W = tf.Variable(tf.zeros([784, 10]))\n",
    "b = tf.Variable(tf.zeros([10]))\n",
    "\n",
    "with tf.name_score('Wx_b') as scope:\n",
    "    #construct a linear model\n",
    "    model = tf.nn.softmax(tf.matmul(x, W) + b) #softmax\n",
    "    \n",
    "#add summary ops to collect data\n",
    "w_h = tf.histogram_summary('weights', W)\n",
    "b-h = tf.histogram_summary('biases', b)\n",
    "\n",
    "with tf.name_scope('cost_function'):\n",
    "    #Minimize error using cross entropy\n",
    "    cost_function = -tf.reduce_sum(Y*tf.log(model))\n",
    "    \n",
    "    #create a summary to monitor the cost function\n",
    "    tf.scalar_summary('cost_function', cost_function)\n",
    "    \n",
    "with tf.name_scope('train') as scope:\n",
    "    #gradient descent\n",
    "    optimizer = tf.train.GradientDescentOptimizer(learning_rate).minimize(cost_funciton)\n",
    "\n",
    "#initialize the variables\n",
    "init = tf.initialize_all_variables()\n",
    "\n",
    "#merge all summaries into a single operator\n",
    "merged_summary_op = tf.merge_all_summaries()"
   ]
  },
  {
   "cell_type": "code",
   "execution_count": null,
   "metadata": {
    "collapsed": true
   },
   "outputs": [],
   "source": [
    "with tf.Session() as sess:\n",
    "    sess.run(init)\n",
    "    \n",
    "    #set the logs writer to a folder\n",
    "    summary_writer = tf.train.SummaryWriter('msnist/data/folder', graph_def = sess.graph_def)\n",
    "    \n",
    "    #Training Cycle\n",
    "    for iteration in range(training_iteration):\n",
    "        avg_cost = 0\n",
    "        total_batch = int(mnist.train.num_examples/batch_size)\n",
    "        \n",
    "        #loop over all batches\n",
    "        for i in range(total_batch):\n",
    "            batch_xs, batch_ys = mnist.train.next_batch(batch_size)\n",
    "            #fit training using batch data\n",
    "            sess.run(optimizer, feed_dict={x: batch_xs, y: batch_ys})\n",
    "            #compute the average loss\n",
    "            avg_cost += sess.run(cost_function, feed_dict={x: batch_xs, y:batch_ys})\n",
    "            summary_str = sess.run(merged_summary_op, feed_dict={x: batch_xs, y:batch_ys})/total_batch\n",
    "            summary_writer.add_summary(summary_str, iteration=total_batch +i)\n",
    "            \n",
    "        #display logs per iteration step\n",
    "        if iteration % display_step == 0:\n",
    "            print \"iteration:\", '%04d' % (iteration + 1), 'costs= ', '{:.9f}'.format(avg_cost)\n",
    "            \n",
    "    print('tuning completed!')\n",
    "    \n",
    "    #test the model\n",
    "    predictions = tf.equal(tf.argmax(model, 1), tf.argmax(y,1))\n",
    "    accuracy = tf.reduce_mean(tf.cast(predictions, 'float'))\n",
    "    print 'accuracy:', accuracy.eval({x: minist.test.images, y: minist.test.labels})\n",
    "\n",
    "            "
   ]
  }
 ],
 "metadata": {
  "kernelspec": {
   "display_name": "Python 3",
   "language": "python",
   "name": "python3"
  },
  "language_info": {
   "codemirror_mode": {
    "name": "ipython",
    "version": 3
   },
   "file_extension": ".py",
   "mimetype": "text/x-python",
   "name": "python",
   "nbconvert_exporter": "python",
   "pygments_lexer": "ipython3",
   "version": "3.6.3"
  }
 },
 "nbformat": 4,
 "nbformat_minor": 2
}
